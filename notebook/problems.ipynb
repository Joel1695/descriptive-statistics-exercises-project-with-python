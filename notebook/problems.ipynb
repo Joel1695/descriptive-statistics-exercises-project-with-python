{
    "cells": [
        {
            "cell_type": "markdown",
            "id": "ac622319",
            "metadata": {},
            "source": [
                "# Descriptive statistics problems"
            ]
        },
        {
            "cell_type": "markdown",
            "id": "aa8993e4",
            "metadata": {},
            "source": [
                "### Exercise 1"
            ]
        },
        {
            "cell_type": "markdown",
            "id": "5e0ab0d5",
            "metadata": {},
            "source": [
                "We will use Numpy to obtain information to describe statistically.\n",
                "\n",
                "- Generate an array of 100 elements following a normal distribution.\n",
                "- Generate an array of 100 elements following a chi-square distribution with 3 degrees of freedom.\n",
                "- Calculate the main metrics and statistical measures that best describe the two vectors."
            ]
        },
        {
            "cell_type": "code",
            "execution_count": 32,
            "id": "34720ab6",
            "metadata": {},
            "outputs": [
                {
                    "name": "stdout",
                    "output_type": "stream",
                    "text": [
                        "Metricas para el array normal \n",
                        "Media : 0.06\n",
                        "Desviacion : 0.89\n",
                        "Varianza : 0.78\n",
                        "Mediana : 0.06\n",
                        "kurtosis : 0    0.061348\n",
                        "dtype: float64\n",
                        "skewness : 0   -0.00455\n",
                        "dtype: float64\n",
                        "Metricas para el array cuadrado\n",
                        "Media : 3.18\n",
                        "Desviacion : 2.68\n",
                        "Varianza : 7.16\n",
                        "Mediana ; 2.60\n",
                        "kurtosis : 0    1.966863\n",
                        "dtype: float64\n",
                        "skewness : 0    1.379233\n",
                        "dtype: float64\n"
                    ]
                },
                {
                    "data": {
                        "text/plain": [
                            "<Axes: ylabel='Frequency'>"
                        ]
                    },
                    "execution_count": 32,
                    "metadata": {},
                    "output_type": "execute_result"
                },
                {
                    "data": {
                        "image/png": "[encoded data removed]",
                        "text/plain": [
                            "<Figure size 640x480 with 1 Axes>"
                        ]
                    },
                    "metadata": {},
                    "output_type": "display_data"
                },
                {
                    "data": {
                        "image/png": "[encoded data removed]",
                        "text/plain": [
                            "<Figure size 640x480 with 1 Axes>"
                        ]
                    },
                    "metadata": {},
                    "output_type": "display_data"
                }
            ],
            "source": [
                "import numpy as np\n",
                "import pandas as pd\n",
                "np.random.seed(1)\n",
                "normal = np.random.normal(0,1,size=100)\n",
                "df = pd.DataFrame(normal)\n",
                "cuadrado = np.random.chisquare(df=3, size=100)\n",
                "df_c = pd.DataFrame(cuadrado)\n",
                "media_normal =np.mean(normal)\n",
                "desviacion_normal = np.std(normal)\n",
                "varianza_normal = np.var(normal)\n",
                "mediana_normal = np.median(normal)\n",
                "kurtosis_normal = df.kurtosis()\n",
                "skew_normal =  df.skew()\n",
                "\n",
                "media_cuadrado = np.mean(cuadrado)\n",
                "desviacion_cuadrado = np.std(cuadrado)\n",
                "varianza_cuadrado = np.var(cuadrado)\n",
                "mediana_cuadrado = np.median(cuadrado)\n",
                "kurtosis_cuadrado = df_c.kurtosis()\n",
                "skew_cuadrado = df_c.skew()\n",
                "\n",
                "print('Metricas para el array normal ')\n",
                "print(f'Media : {media_normal:.2f}')\n",
                "print(f'Desviacion : {desviacion_normal:.2f}')\n",
                "print(f'Varianza : {varianza_normal:.2f}')\n",
                "print(f'Mediana : {mediana_normal:.2f}')\n",
                "print(f'kurtosis : {kurtosis_normal}')\n",
                "print(f'skewness : {skew_normal}')\n",
                "df.plot.hist(bins=10)\n",
                "\n",
                "\n",
                "\n",
                "print('Metricas para el array cuadrado')\n",
                "print(f'Media : {media_cuadrado:.2f}')\n",
                "print(f'Desviacion : {desviacion_cuadrado:.2f}')\n",
                "print(f'Varianza : {varianza_cuadrado:.2f}')\n",
                "print(f'Mediana ; {mediana_cuadrado:.2f}')\n",
                "print(f'kurtosis : {kurtosis_cuadrado}')\n",
                "print(f'skewness : {skew_cuadrado}')\n",
                "\n",
                "df_c.plot.hist( bins=10)"
            ]
        },
        {
            "cell_type": "markdown",
            "id": "46c70c3d",
            "metadata": {},
            "source": [
                "### Exercise 2\n",
                "\n",
                "Write a Python program to calculate the standard deviation of the following data:\n",
                "\n",
                "```py\n",
                "data = [4, 2, 5, 8, 6]\n",
                "```"
            ]
        },
        {
            "cell_type": "code",
            "execution_count": 34,
            "id": "d590308e",
            "metadata": {},
            "outputs": [
                {
                    "name": "stdout",
                    "output_type": "stream",
                    "text": [
                        "2.0\n",
                        "Desviación estándar calculada desde cero: 2.00\n"
                    ]
                }
            ],
            "source": [
                "data = [4, 2, 5, 8, 6]\n",
                "\n",
                "np_data = np.std(data)\n",
                "print(np_data)\n",
                "\n",
                "\n",
                "def calcular_desviacion_estandar(datos):\n",
                "    media = sum(datos) / len(datos)\n",
                "    suma_cuadrados = sum((x - media) ** 2 for x in datos)\n",
                "    varianza = suma_cuadrados / (len(datos))\n",
                "    desviacion_estandar = varianza ** 0.5\n",
                "    return desviacion_estandar\n",
                "\n",
                "desviacion_estandar = calcular_desviacion_estandar(data)\n",
                "print(f\"Desviación estándar calculada desde cero: {desviacion_estandar:.2f}\")"
            ]
        }
    ],
    "metadata": {
        "interpreter": {
            "hash": "9248718ffe6ce6938b217e69dbcc175ea21f4c6b28a317e96c05334edae734bb"
        },
        "kernelspec": {
            "display_name": "Python 3.9.12 ('ML-BOOTCAMP')",
            "language": "python",
            "name": "python3"
        },
        "language_info": {
            "codemirror_mode": {
                "name": "ipython",
                "version": 3
            },
            "file_extension": ".py",
            "mimetype": "text/x-python",
            "name": "python",
            "nbconvert_exporter": "python",
            "pygments_lexer": "ipython3",
            "version": "3.11.4"
        }
    },
    "nbformat": 4,
    "nbformat_minor": 5
}
